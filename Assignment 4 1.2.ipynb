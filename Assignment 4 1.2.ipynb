{
 "cells": [
  {
   "cell_type": "code",
   "execution_count": 10,
   "metadata": {},
   "outputs": [
    {
     "name": "stdout",
     "output_type": "stream",
     "text": [
      "Enter the length 2\n",
      "The words that have length greater than 2 are tom kumar Rani\n"
     ]
    }
   ],
   "source": [
    "def list_of_words(l,n):\n",
    "    t=[i for i in l if len(i)>n]\n",
    "    return t\n",
    "n=int(input(\"Enter the length \"))\n",
    "l=[\"tom\",\"kumar\",\"Rani\"]\n",
    "r=list_of_words(l,n)\n",
    "if r==[]:\n",
    "    print(\"There are no words greater than %d\"%n)\n",
    "else:\n",
    "    print(\"The words that have length greater than %d are\"%n,end=\" \")\n",
    "    print(*r)"
   ]
  }
 ],
 "metadata": {
  "kernelspec": {
   "display_name": "Python 3",
   "language": "python",
   "name": "python3"
  },
  "language_info": {
   "codemirror_mode": {
    "name": "ipython",
    "version": 3
   },
   "file_extension": ".py",
   "mimetype": "text/x-python",
   "name": "python",
   "nbconvert_exporter": "python",
   "pygments_lexer": "ipython3",
   "version": "3.7.4"
  }
 },
 "nbformat": 4,
 "nbformat_minor": 2
}
