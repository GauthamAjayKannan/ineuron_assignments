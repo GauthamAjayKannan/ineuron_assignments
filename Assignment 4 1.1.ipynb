{
 "cells": [
  {
   "cell_type": "code",
   "execution_count": 10,
   "metadata": {},
   "outputs": [
    {
     "name": "stdout",
     "output_type": "stream",
     "text": [
      " Enter the value of side 1 5\n",
      " Enter the value of side 2 5\n",
      " Enter the value of side 3 5\n",
      "5\n",
      "The area is 10.825318 sq.units\n"
     ]
    }
   ],
   "source": [
    "class triangle:\n",
    "    def __init__(self):\n",
    "        self.a=0\n",
    "        self.b=0\n",
    "        self.c=0\n",
    "        self.setSide()\n",
    "    def setSide(self):\n",
    "        t=[]\n",
    "        for i in range(3):\n",
    "            r=int(input(\" Enter the value of side %d \"%(i+1)))\n",
    "            t.append(r)\n",
    "        self.a,self.b,self.c=t\n",
    "class calculate:\n",
    "    def __init__(self,triangle):\n",
    "        self.s=0\n",
    "        self.area=0\n",
    "        self.triangle=triangle\n",
    "        self.calculateArea()\n",
    "    def calculateArea(self):\n",
    "        print(self.triangle.a)\n",
    "        self.s=(self.triangle.a+self.triangle.b+self.triangle.c)/2\n",
    "        self.area=(self.s*(self.s-self.triangle.a)*(self.s-self.triangle.b)*(self.s-self.triangle.c))**0.5\n",
    "        print(\"The area is %f sq.units\"%self.area)\n",
    "        \n",
    " \n",
    "\n",
    "a=triangle()\n",
    "b=calculate(a)"
   ]
  }
 ],
 "metadata": {
  "kernelspec": {
   "display_name": "Python 3",
   "language": "python",
   "name": "python3"
  },
  "language_info": {
   "codemirror_mode": {
    "name": "ipython",
    "version": 3
   },
   "file_extension": ".py",
   "mimetype": "text/x-python",
   "name": "python",
   "nbconvert_exporter": "python",
   "pygments_lexer": "ipython3",
   "version": "3.7.4"
  }
 },
 "nbformat": 4,
 "nbformat_minor": 2
}
